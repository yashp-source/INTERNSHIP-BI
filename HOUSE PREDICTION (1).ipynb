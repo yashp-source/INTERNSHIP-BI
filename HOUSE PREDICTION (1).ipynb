{
 "cells": [
  {
   "cell_type": "markdown",
   "id": "51d1c37c",
   "metadata": {},
   "source": [
    "# BHARAT INTERN MACHINE LEARNING INTERNSHIP"
   ]
  },
  {
   "cell_type": "markdown",
   "id": "a82bbef5",
   "metadata": {},
   "source": [
    "# TASK 1: HOUSE PRICE PREDICTION "
   ]
  },
  {
   "cell_type": "markdown",
   "id": "ef52c13a",
   "metadata": {},
   "source": [
    "# BY YASH PEDNEKAR\n"
   ]
  },
  {
   "cell_type": "code",
   "execution_count": 1,
   "id": "4fbff60f",
   "metadata": {},
   "outputs": [],
   "source": [
    "import numpy as np\n",
    "import pandas as pd\n",
    "from sklearn.model_selection import train_test_split\n",
    "from sklearn.linear_model import LinearRegression\n",
    "from sklearn.metrics import mean_squared_error"
   ]
  },
  {
   "cell_type": "markdown",
   "id": "ad4262fa",
   "metadata": {},
   "source": [
    "## Load the datasets (train.csv and test.csv)"
   ]
  },
  {
   "cell_type": "code",
   "execution_count": 2,
   "id": "c7d41afa",
   "metadata": {},
   "outputs": [],
   "source": [
    "train_data = pd.read_csv('train.csv')\n",
    "test_data = pd.read_csv('test.csv')"
   ]
  },
  {
   "cell_type": "markdown",
   "id": "f28d2000",
   "metadata": {},
   "source": [
    "## Assuming 'LotArea', 'YearBuilt', and 'OverallQual' are the features that influence the house price"
   ]
  },
  {
   "cell_type": "code",
   "execution_count": 3,
   "id": "41d9b8df",
   "metadata": {},
   "outputs": [],
   "source": [
    "X_train = train_data[['LotArea', 'YearBuilt', 'OverallQual']].values\n",
    "y_train = train_data['SalePrice'].values"
   ]
  },
  {
   "cell_type": "markdown",
   "id": "05fef6eb",
   "metadata": {},
   "source": [
    "## Preprocessing for the test data"
   ]
  },
  {
   "cell_type": "code",
   "execution_count": 4,
   "id": "f9f25b27",
   "metadata": {},
   "outputs": [],
   "source": [
    "X_test = test_data[['LotArea', 'YearBuilt', 'OverallQual']].values"
   ]
  },
  {
   "cell_type": "markdown",
   "id": "d3b81f57",
   "metadata": {},
   "source": [
    "## Create and train the Linear Regression model"
   ]
  },
  {
   "cell_type": "code",
   "execution_count": 5,
   "id": "19074c99",
   "metadata": {},
   "outputs": [
    {
     "data": {
      "text/plain": [
       "LinearRegression()"
      ]
     },
     "execution_count": 5,
     "metadata": {},
     "output_type": "execute_result"
    }
   ],
   "source": [
    "model = LinearRegression()\n",
    "model.fit(X_train, y_train)"
   ]
  },
  {
   "cell_type": "markdown",
   "id": "53d36d9a",
   "metadata": {},
   "source": [
    "## Make predictions on the test set"
   ]
  },
  {
   "cell_type": "code",
   "execution_count": 6,
   "id": "33f2f692",
   "metadata": {},
   "outputs": [],
   "source": [
    "y_pred = model.predict(X_test)"
   ]
  },
  {
   "cell_type": "markdown",
   "id": "8150269d",
   "metadata": {},
   "source": [
    "## Assuming the test dataset contains 'Id' and 'SalePrice' columns"
   ]
  },
  {
   "cell_type": "code",
   "execution_count": 7,
   "id": "7432633a",
   "metadata": {},
   "outputs": [],
   "source": [
    "submission_df = pd.DataFrame({'Id': test_data['Id'], 'SalePrice': y_pred})"
   ]
  },
  {
   "cell_type": "markdown",
   "id": "9c9a26fb",
   "metadata": {},
   "source": [
    "## Save the predictions to a CSV file"
   ]
  },
  {
   "cell_type": "code",
   "execution_count": 8,
   "id": "aa8347d5",
   "metadata": {},
   "outputs": [],
   "source": [
    "\n",
    "submission_df.to_csv('submission.csv', index=False)\n"
   ]
  },
  {
   "cell_type": "code",
   "execution_count": null,
   "id": "d6850ed5",
   "metadata": {},
   "outputs": [],
   "source": []
  }
 ],
 "metadata": {
  "language_info": {
   "name": "python"
  }
 },
 "nbformat": 4,
 "nbformat_minor": 5
}
